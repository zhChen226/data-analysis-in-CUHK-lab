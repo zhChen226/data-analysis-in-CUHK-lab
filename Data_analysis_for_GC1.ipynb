{
 "cells": [
  {
   "cell_type": "code",
   "execution_count": 14,
   "id": "52e801f9",
   "metadata": {},
   "outputs": [],
   "source": [
    "import numpy as np\n",
    "import pandas as pd"
   ]
  },
  {
   "cell_type": "code",
   "execution_count": null,
   "id": "14b4f65f",
   "metadata": {},
   "outputs": [],
   "source": [
    "def calculate_FE():\n",
    "    inj_num = int(input(\"进样序号：\"))\n",
    "    voltage = float(input(\"请输入进样时电压(V):\"))\n",
    "    \n",
    "    # 输入三个时间（单位：秒）\n",
    "    times = [float(input(f\"请输入时间{i+1}（秒）: \")) for i in range(3)]\n",
    "    avg_time = np.mean(times)\n",
    "\n",
    "    x = 30\n",
    "    Q = (x / avg_time) * 60\n",
    "\n",
    "    A_CO = float(input(\"请输入 CO 的积分峰面积 A_CO: \"))\n",
    "    A_H2 = float(input(\"请输入 H2 的积分峰面积 A_H2: \"))\n",
    "\n",
    "    F = 96485  # 法拉第常数\n",
    "    T = 60000  # 单位换算：分钟 -> 毫秒\n",
    "    V_m = 24.5  # 标况下摩尔体积，单位：L/mol\n",
    "    scale = 1e-6 * 2 * F * 100  # 公共因子\n",
    "\n",
    "    # 计算 FE\n",
    "    FE_CO = (Q * (A_CO - 7.1107) * scale) / (0.0104 * T * V_m)\n",
    "    FE_H2 = (Q * (A_H2 - 3.6518) * scale) / (0.0495 * T * V_m)\n",
    "    total_gas = FE_CO + FE_H2\n",
    "\n",
    "    return pd.DataFrame({\n",
    "        \"inj_num\": [inj_num],\n",
    "        \"voltage\": [voltage],\n",
    "        \"avg_time (s)\": [avg_time],\n",
    "        \"flow_rate Q (mL/min)\": [Q],\n",
    "        \"Area_CO\": [A_CO],\n",
    "        \"FE_CO (%)\": [FE_CO],\n",
    "        \"Area_H2\": [A_H2],\n",
    "        \"FE_H2 (%)\": [FE_H2],\n",
    "        \"total_gas\": [total_gas]\n",
    "    })                          #pandas一定要传入二维表格，所以需要加[]\n",
    "\n",
    "    print(\"\\n计算结果：\")\n",
    "    print(df.round(4))"
   ]
  },
  {
   "cell_type": "code",
   "execution_count": 16,
   "id": "3faffde2",
   "metadata": {},
   "outputs": [],
   "source": [
    "all_results = []"
   ]
  },
  {
   "cell_type": "code",
   "execution_count": 17,
   "id": "de1892dc",
   "metadata": {},
   "outputs": [
    {
     "name": "stdout",
     "output_type": "stream",
     "text": [
      "\n",
      "=== 新的一组数据 ===\n"
     ]
    }
   ],
   "source": [
    "while True:\n",
    "    print(\"\\n=== 新的一组数据 ===\")\n",
    "    df = calculate_FE()\n",
    "    all_results.append(df)\n",
    "\n",
    "    cont = input(\"是否继续输入下一组？(y/n): \").strip().lower()\n",
    "    if cont != 'y':\n",
    "        break"
   ]
  },
  {
   "cell_type": "code",
   "execution_count": 18,
   "id": "0660cb70",
   "metadata": {},
   "outputs": [
    {
     "name": "stdout",
     "output_type": "stream",
     "text": [
      "\n",
      "所有实验数据汇总：\n",
      "   inj_num  avg_time (s)  flow_rate Q (mL/min)   Area_CO  FE_CO (%)  Area_H2  \\\n",
      "0        7         12.82              140.4056  531.7136    92.9725  58.1386   \n",
      "\n",
      "   FE_H2 (%)  \n",
      "0     2.0288  \n"
     ]
    }
   ],
   "source": [
    "final_df = pd.concat(all_results, ignore_index=True)\n",
    "\n",
    "# 显示结果\n",
    "print(\"\\n所有实验数据汇总：\")\n",
    "print(final_df.round(4))"
   ]
  },
  {
   "cell_type": "code",
   "execution_count": 19,
   "id": "13d1ed2d",
   "metadata": {},
   "outputs": [],
   "source": [
    "from datetime import datetime\n",
    "import os\n",
    "\n",
    "save_dir = r\"D:\\CUHK_train_Data\"\n",
    "\n",
    "date_str = datetime.now().strftime(\"%y%m%d\")\n",
    "time_str = datetime.now().strftime(\"%H%M\")\n",
    "\n",
    "filename = f\"FE_results_summary_{date_str}_{time_str}.csv\"\n",
    "filepath = os.path.join(save_dir, filename)\n",
    "\n",
    "final_df.to_csv(filepath, index=False)"
   ]
  }
 ],
 "metadata": {
  "kernelspec": {
   "display_name": "Python 3",
   "language": "python",
   "name": "python3"
  },
  "language_info": {
   "codemirror_mode": {
    "name": "ipython",
    "version": 3
   },
   "file_extension": ".py",
   "mimetype": "text/x-python",
   "name": "python",
   "nbconvert_exporter": "python",
   "pygments_lexer": "ipython3",
   "version": "3.12.1"
  }
 },
 "nbformat": 4,
 "nbformat_minor": 5
}
