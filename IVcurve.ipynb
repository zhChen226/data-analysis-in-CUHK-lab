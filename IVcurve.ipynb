{
 "cells": [
  {
   "cell_type": "code",
   "execution_count": 1,
   "id": "4bcfa13e-17b9-4da1-964a-c536b3481c47",
   "metadata": {},
   "outputs": [],
   "source": [
    "import pandas as pd\n",
    "import matplotlib.pyplot as plt\n",
    "import matplotlib.ticker as ticker\n",
    "import numpy as np\n",
    "import io\n",
    "plt.switch_backend('TkAgg')"
   ]
  },
  {
   "cell_type": "code",
   "execution_count": 2,
   "id": "7cd7665f-6483-4b7d-bfc3-b3044cf0c182",
   "metadata": {},
   "outputs": [],
   "source": [
    "df1 = pd.read_csv(\"F:/ele_worksta_data/czh-20251008-lsv.txt\",sep=\"\\t\")\n",
    "df2 = pd.read_csv(\"F:/ele_worksta_data/20251009lsv-lsv.txt\",sep=\"\\t\")\n",
    "df3 = pd.read_csv(\"F:/ele_worksta_data/czh-20251009-lsv.txt\",sep=\"\\t\")"
   ]
  },
  {
   "cell_type": "code",
   "execution_count": 3,
   "id": "129e430a-417c-4e2e-b044-eca3edd3386a",
   "metadata": {},
   "outputs": [],
   "source": [
    "df1['Voltage (V)'] = df1['Voltage (V)'] * (-1)\n",
    "df1['Current (A)'] = df1['Current (A)'] * (-1)\n",
    "\n",
    "df2['Voltage (V)'] = df2['Voltage (V)'] * (-1)\n",
    "df2['Current (A)'] = df2['Current (A)'] * (-1)\n",
    "\n",
    "df3['Voltage (V)'] = df3['Voltage (V)'] * (-1)\n",
    "df3['Current (A)'] = df3['Current (A)'] * (-1)"
   ]
  },
  {
   "cell_type": "code",
   "execution_count": 4,
   "id": "0c7d2e19-281f-4f28-91de-139de2cab4b9",
   "metadata": {},
   "outputs": [],
   "source": [
    "plt.rcParams['font.sans-serif'] = ['Arial']\n",
    "plt.rcParams['axes.unicode_minus'] = True\n",
    "\n",
    "LINE_WIDTH = 1.5\n",
    "fig, ax = plt.subplots(figsize=(10, 6))"
   ]
  },
  {
   "cell_type": "code",
   "execution_count": 5,
   "id": "49d5c6a0-f371-4f5c-a60f-04ecc5a65602",
   "metadata": {},
   "outputs": [
    {
     "name": "stderr",
     "output_type": "stream",
     "text": [
      "<>:5: SyntaxWarning: invalid escape sequence '\\m'\n",
      "<>:11: SyntaxWarning: invalid escape sequence '\\m'\n",
      "<>:5: SyntaxWarning: invalid escape sequence '\\m'\n",
      "<>:11: SyntaxWarning: invalid escape sequence '\\m'\n",
      "C:\\Users\\hp\\AppData\\Local\\Temp\\ipykernel_4548\\3929825731.py:5: SyntaxWarning: invalid escape sequence '\\m'\n",
      "  label='0.4 g $\\mathregular{cm^{-3}}$')\n",
      "C:\\Users\\hp\\AppData\\Local\\Temp\\ipykernel_4548\\3929825731.py:11: SyntaxWarning: invalid escape sequence '\\m'\n",
      "  label='1.08 g $\\mathregular{cm^{-3}}$')\n"
     ]
    }
   ],
   "source": [
    "ax.plot(df1['Voltage (V)'], df1['Current (A)'], \n",
    "        linestyle='-',        \n",
    "        linewidth=LINE_WIDTH, \n",
    "        color=\"#D95319\",      \n",
    "        label='0.4 g $\\mathregular{cm^{-3}}$')\n",
    "\n",
    "ax.plot(df2['Voltage (V)'], df2['Current (A)'], \n",
    "        linestyle='-',        \n",
    "        linewidth=LINE_WIDTH, \n",
    "        color=\"blue\",      \n",
    "        label='1.08 g $\\mathregular{cm^{-3}}$') \n",
    "\n",
    "ax.plot(df3['Voltage (V)'], df3['Current (A)'], \n",
    "        linestyle='-',        \n",
    "        linewidth=LINE_WIDTH, \n",
    "        color=\"#E9E44E\",      \n",
    "        label='1.08 g cm$^{-3}$\\n0.01 M H$_{2}$SO$_{4}$ in SER\\n0.1 M H$_{2}$SO$_{4}$ in Anode') \n",
    "\n",
    "# --- 轴和边界设置 ---\n",
    "ax.spines['right'].set_visible(True)\n",
    "ax.spines['top'].set_visible(True)\n",
    "\n",
    "ax.spines['left'].set_linewidth(LINE_WIDTH)\n",
    "ax.spines['bottom'].set_linewidth(LINE_WIDTH)\n",
    "ax.spines['right'].set_linewidth(LINE_WIDTH)\n",
    "ax.spines['top'].set_linewidth(LINE_WIDTH)\n",
    "\n",
    "ax.spines['top'].set_position(('outward', 0))\n",
    "ax.spines['right'].set_position(('outward', 0))\n",
    "\n",
    "# --- 标签和标题 ---\n",
    "# 使用 LaTeX 格式化，确保单位清晰\n",
    "ax.set_xlabel('Voltage / V', \n",
    "              fontsize=14, \n",
    "              fontweight='bold')\n",
    "ax.set_ylabel('Current / A', \n",
    "              fontsize=14, \n",
    "              fontweight='bold')\n",
    "\n",
    "# --- 刻度参数设置 ---\n",
    "ax.tick_params(axis='both', \n",
    "               which='major', \n",
    "               labelsize=12,\n",
    "               direction='in', \n",
    "               length=6,       \n",
    "               width=LINE_WIDTH * 0.7) \n",
    "\n",
    "ax.tick_params(top=False, right=False, labeltop=False, labelright=False)"
   ]
  },
  {
   "cell_type": "code",
   "execution_count": 6,
   "id": "516d9e38-663f-4d6c-9ff1-4f320ad4cfb9",
   "metadata": {},
   "outputs": [],
   "source": [
    "# --- 刻度值格式化 ---\n",
    "# 对 Y 轴使用科学计数法格式化\n",
    "ax.yaxis.set_major_formatter(ticker.ScalarFormatter(useMathText=True))\n",
    "# 根据新的数据范围，可能需要调整 scilimits\n",
    "ax.ticklabel_format(axis='y', style='sci', scilimits=(-5, 5)) \n",
    "\n",
    "# --- 限制和图例 ---\n",
    "ax.legend(loc='best', frameon=False, fontsize=12) \n",
    "\n",
    "plt.tight_layout()"
   ]
  },
  {
   "cell_type": "code",
   "execution_count": 7,
   "id": "2691fb18-65aa-4b08-a720-a40f76f15744",
   "metadata": {},
   "outputs": [
    {
     "data": {
      "text/plain": [
       "(0.0, 0.12)"
      ]
     },
     "execution_count": 7,
     "metadata": {},
     "output_type": "execute_result"
    }
   ],
   "source": [
    "plt.xlim(0.1, 2.8)\n",
    "plt.ylim(0.0,0.12)"
   ]
  },
  {
   "cell_type": "code",
   "execution_count": 8,
   "id": "8e9bd268-9be6-452b-889f-7cd6c53b215e",
   "metadata": {},
   "outputs": [],
   "source": [
    "# 显示图表\n",
    "plt.show()"
   ]
  }
 ],
 "metadata": {
  "kernelspec": {
   "display_name": "Python 3 (ipykernel)",
   "language": "python",
   "name": "python3"
  },
  "language_info": {
   "codemirror_mode": {
    "name": "ipython",
    "version": 3
   },
   "file_extension": ".py",
   "mimetype": "text/x-python",
   "name": "python",
   "nbconvert_exporter": "python",
   "pygments_lexer": "ipython3",
   "version": "3.12.1"
  }
 },
 "nbformat": 4,
 "nbformat_minor": 5
}
