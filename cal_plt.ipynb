{
 "cells": [
  {
   "cell_type": "code",
   "execution_count": 1,
   "id": "912ccb00-672d-47b6-bf66-976bf9528df9",
   "metadata": {},
   "outputs": [],
   "source": [
    "import pandas as pd\n",
    "import matplotlib.pyplot as plt\n",
    "import matplotlib.ticker as ticker\n",
    "import numpy as np\n",
    "plt.switch_backend('TkAgg')"
   ]
  },
  {
   "cell_type": "code",
   "execution_count": 2,
   "id": "8e87aff3-ae47-4f9b-ad96-93cd75c91f77",
   "metadata": {},
   "outputs": [],
   "source": [
    "df = pd.read_csv(\"D:/CUHK_data/CO2_sensor_raw_data/co2_readings_2025-10-04_11-08-58.txt\", sep='\\t')"
   ]
  },
  {
   "cell_type": "code",
   "execution_count": 3,
   "id": "fc7832a3-c789-4cd8-8e8f-f7fc359df38a",
   "metadata": {},
   "outputs": [],
   "source": [
    "df['time (s)'] = df.index "
   ]
  },
  {
   "cell_type": "code",
   "execution_count": 4,
   "id": "430f253c-00fd-4c0d-8fd7-7c43dc54baf5",
   "metadata": {},
   "outputs": [],
   "source": [
    "plt.rcParams['font.sans-serif'] = ['Arial'] \n",
    "plt.rcParams['axes.unicode_minus'] = True"
   ]
  },
  {
   "cell_type": "code",
   "execution_count": 5,
   "id": "36e1c191-acd1-4849-a2a5-6859def8d1b4",
   "metadata": {},
   "outputs": [
    {
     "name": "stderr",
     "output_type": "stream",
     "text": [
      "<>:6: SyntaxWarning: invalid escape sequence '\\m'\n",
      "<>:6: SyntaxWarning: invalid escape sequence '\\m'\n",
      "C:\\Users\\hp\\AppData\\Local\\Temp\\ipykernel_24380\\2471308376.py:6: SyntaxWarning: invalid escape sequence '\\m'\n",
      "  label='$\\mathregular{CO_2}$ Concentration')\n"
     ]
    },
    {
     "data": {
      "text/plain": [
       "[<matplotlib.lines.Line2D at 0x264c54f9a90>]"
      ]
     },
     "execution_count": 5,
     "metadata": {},
     "output_type": "execute_result"
    }
   ],
   "source": [
    "fig, ax = plt.subplots(figsize=(10, 6))\n",
    "ax.plot(df['time (s)'], df['CO2_PPM'], \n",
    "        linestyle='-',       # Solid line\n",
    "        linewidth=1.5,       # Line width\n",
    "        color=\"#0059C0\",     # A distinct blue color\n",
    "        label='$\\mathregular{CO_2}$ Concentration')"
   ]
  },
  {
   "cell_type": "code",
   "execution_count": 6,
   "id": "fc344101-f870-4226-aee9-9517cfb083e3",
   "metadata": {},
   "outputs": [],
   "source": [
    "def format_x_tick(x, pos):\n",
    "    \"\"\"如果刻度值接近0，则返回空字符串，否则返回整数\"\"\"\n",
    "    if np.isclose(x, 0):\n",
    "        return \"\"\n",
    "    return f\"{int(x)}\"\n",
    "\n",
    "# 将自定义的格式化函数应用到X轴的主要刻度标签\n",
    "ax.xaxis.set_major_formatter(ticker.FuncFormatter(format_x_tick))"
   ]
  },
  {
   "cell_type": "code",
   "execution_count": 7,
   "id": "56832075-e182-46a5-97eb-e300e63f5634",
   "metadata": {},
   "outputs": [],
   "source": [
    "LINE_WIDTH = 1.5"
   ]
  },
  {
   "cell_type": "code",
   "execution_count": 8,
   "id": "d6afe736-8da6-4dc3-bc50-a40b33f37e3d",
   "metadata": {},
   "outputs": [
    {
     "data": {
      "text/plain": [
       "(0.0, 6560.0)"
      ]
     },
     "execution_count": 8,
     "metadata": {},
     "output_type": "execute_result"
    }
   ],
   "source": [
    "ax.set_ylim(0, 1000)\n",
    "ax.set_xlim(df['time (s)'].min(), df['time (s)'].max() + 1) # 略微多一点空间"
   ]
  },
  {
   "cell_type": "code",
   "execution_count": 9,
   "id": "711ed30c-be9f-43a1-9230-c46b6185d30c",
   "metadata": {},
   "outputs": [],
   "source": [
    "ax.spines['right'].set_visible(True)\n",
    "ax.spines['top'].set_visible(True)\n",
    "# 顶部轴线移动到Y轴最大值\n",
    "ax.spines['top'].set_position(('outward', 0)) \n",
    "# 右侧轴线移动到X轴最大值（这里使用'outward'即可，因为它会默认在数据区边缘）\n",
    "ax.spines['right'].set_position(('outward', 0)) "
   ]
  },
  {
   "cell_type": "code",
   "execution_count": 10,
   "id": "b0f79134-811f-4566-9ab6-1f62ffb6a3b6",
   "metadata": {},
   "outputs": [],
   "source": [
    "ax.spines['left'].set_linewidth(LINE_WIDTH)\n",
    "ax.spines['bottom'].set_linewidth(LINE_WIDTH)\n",
    "ax.spines['right'].set_linewidth(LINE_WIDTH)\n",
    "ax.spines['top'].set_linewidth(LINE_WIDTH)"
   ]
  },
  {
   "cell_type": "code",
   "execution_count": 11,
   "id": "fb3aabc1-83f7-4531-a067-36bf17a15c2e",
   "metadata": {},
   "outputs": [
    {
     "name": "stderr",
     "output_type": "stream",
     "text": [
      "<>:1: SyntaxWarning: invalid escape sequence '\\m'\n",
      "<>:8: SyntaxWarning: invalid escape sequence '\\m'\n",
      "<>:1: SyntaxWarning: invalid escape sequence '\\m'\n",
      "<>:8: SyntaxWarning: invalid escape sequence '\\m'\n",
      "C:\\Users\\hp\\AppData\\Local\\Temp\\ipykernel_24380\\972106166.py:1: SyntaxWarning: invalid escape sequence '\\m'\n",
      "  ax.set_title('$\\mathregular{CO_2}$ Concentration Calibration Curve',\n",
      "C:\\Users\\hp\\AppData\\Local\\Temp\\ipykernel_24380\\972106166.py:8: SyntaxWarning: invalid escape sequence '\\m'\n",
      "  ax.set_ylabel('$\\mathregular{CO_2}$ Concentration (ppm)',\n"
     ]
    },
    {
     "data": {
      "text/plain": [
       "Text(0, 0.5, '$\\\\mathregular{CO_2}$ Concentration (ppm)')"
      ]
     },
     "execution_count": 11,
     "metadata": {},
     "output_type": "execute_result"
    }
   ],
   "source": [
    "ax.set_title('$\\mathregular{CO_2}$ Concentration Calibration Curve', \n",
    "             fontsize=16, \n",
    "             fontweight='bold', \n",
    "             pad=15)\n",
    "ax.set_xlabel('Time (s)', \n",
    "              fontsize=14, \n",
    "              fontweight='bold')\n",
    "ax.set_ylabel('$\\mathregular{CO_2}$ Concentration (ppm)', \n",
    "              fontsize=14, \n",
    "              fontweight='bold')"
   ]
  },
  {
   "cell_type": "code",
   "execution_count": 12,
   "id": "411f2261-cddc-47e6-8a47-25886d19eec3",
   "metadata": {},
   "outputs": [],
   "source": [
    "ax.tick_params(axis='both', \n",
    "               which='major', \n",
    "               labelsize=12,\n",
    "               direction='in', # 主要刻度线朝内\n",
    "               length=6,       \n",
    "               width=LINE_WIDTH * 0.7) # 刻度线粗细略小于轴线\n",
    "\n",
    "# 移除顶部和右侧轴线的刻度标签和刻度线\n",
    "ax.tick_params(top=False, right=False, labeltop=False, labelright=False)"
   ]
  },
  {
   "cell_type": "code",
   "execution_count": 13,
   "id": "486e9a2c-39b2-4285-a3e3-6b579fe45737",
   "metadata": {},
   "outputs": [
    {
     "data": {
      "text/plain": [
       "<matplotlib.legend.Legend at 0x264c551c7d0>"
      ]
     },
     "execution_count": 13,
     "metadata": {},
     "output_type": "execute_result"
    }
   ],
   "source": [
    "ax.legend(loc='upper right', frameon=False, fontsize=12) "
   ]
  },
  {
   "cell_type": "code",
   "execution_count": 14,
   "id": "72e269e3-6918-4b56-a07e-cb8aa4d35e17",
   "metadata": {},
   "outputs": [],
   "source": [
    "plt.tight_layout()"
   ]
  },
  {
   "cell_type": "code",
   "execution_count": null,
   "id": "85ae3c2c-d981-4cfd-b579-9bf90bc24498",
   "metadata": {},
   "outputs": [],
   "source": [
    "plt.show()"
   ]
  }
 ],
 "metadata": {
  "kernelspec": {
   "display_name": "Python 3 (ipykernel)",
   "language": "python",
   "name": "python3"
  },
  "language_info": {
   "codemirror_mode": {
    "name": "ipython",
    "version": 3
   },
   "file_extension": ".py",
   "mimetype": "text/x-python",
   "name": "python",
   "nbconvert_exporter": "python",
   "pygments_lexer": "ipython3",
   "version": "3.12.1"
  }
 },
 "nbformat": 4,
 "nbformat_minor": 5
}
